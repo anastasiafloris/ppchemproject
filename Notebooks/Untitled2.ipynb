{
 "cells": [
  {
   "cell_type": "code",
   "execution_count": 1,
   "id": "5b4ade7f-5525-4edf-8fce-3aec4a8c8202",
   "metadata": {},
   "outputs": [
    {
     "name": "stdin",
     "output_type": "stream",
     "text": [
      "Enter the SMILES string of the molecule:  CCO\n"
     ]
    },
    {
     "ename": "NameError",
     "evalue": "name '__file__' is not defined",
     "output_type": "error",
     "traceback": [
      "\u001b[0;31m---------------------------------------------------------------------------\u001b[0m",
      "\u001b[0;31mNameError\u001b[0m                                 Traceback (most recent call last)",
      "Cell \u001b[0;32mIn[1], line 83\u001b[0m\n\u001b[1;32m     80\u001b[0m         \u001b[38;5;28mprint\u001b[39m(\u001b[38;5;124m\"\u001b[39m\u001b[38;5;124mInvalid SMILES string\u001b[39m\u001b[38;5;124m\"\u001b[39m)\n\u001b[1;32m     82\u001b[0m \u001b[38;5;28;01mif\u001b[39;00m \u001b[38;5;18m__name__\u001b[39m \u001b[38;5;241m==\u001b[39m \u001b[38;5;124m\"\u001b[39m\u001b[38;5;124m__main__\u001b[39m\u001b[38;5;124m\"\u001b[39m:\n\u001b[0;32m---> 83\u001b[0m     \u001b[43mmain\u001b[49m\u001b[43m(\u001b[49m\u001b[43m)\u001b[49m\n",
      "Cell \u001b[0;32mIn[1], line 68\u001b[0m, in \u001b[0;36mmain\u001b[0;34m()\u001b[0m\n\u001b[1;32m     64\u001b[0m smiles \u001b[38;5;241m=\u001b[39m \u001b[38;5;28minput\u001b[39m(\u001b[38;5;124m\"\u001b[39m\u001b[38;5;124mEnter the SMILES string of the molecule: \u001b[39m\u001b[38;5;124m\"\u001b[39m)\n\u001b[1;32m     66\u001b[0m \u001b[38;5;28;01mif\u001b[39;00m validate_smiles(smiles):\n\u001b[1;32m     67\u001b[0m     \u001b[38;5;66;03m# Get the directory of the current script\u001b[39;00m\n\u001b[0;32m---> 68\u001b[0m     current_dir \u001b[38;5;241m=\u001b[39m os\u001b[38;5;241m.\u001b[39mpath\u001b[38;5;241m.\u001b[39mdirname(os\u001b[38;5;241m.\u001b[39mpath\u001b[38;5;241m.\u001b[39mabspath(\u001b[38;5;18;43m__file__\u001b[39;49m))\n\u001b[1;32m     70\u001b[0m     \u001b[38;5;66;03m# Construct the dataset path\u001b[39;00m\n\u001b[1;32m     71\u001b[0m     dataset_filename \u001b[38;5;241m=\u001b[39m \u001b[38;5;124m'\u001b[39m\u001b[38;5;124mPubChem_compound_list_hMMhFlIeN6IAjL-VPe32vf3MSqzNijeITa0sxFa8PsVWpQI.numbers\u001b[39m\u001b[38;5;124m'\u001b[39m\n",
      "\u001b[0;31mNameError\u001b[0m: name '__file__' is not defined"
     ]
    }
   ],
   "source": [
    "import pandas as pd\n",
    "from rdkit import Chem\n",
    "from rdkit.Chem import Draw\n",
    "from rdkit.Chem import Descriptors\n",
    "from rdkit.Chem import AllChem\n",
    "import py3Dmol\n",
    "from IPython.display import display\n",
    "import os\n",
    "\n",
    "# Function to validate SMILES string\n",
    "def validate_smiles(smiles):\n",
    "    try:\n",
    "        Chem.MolFromSmiles(smiles)\n",
    "        return True\n",
    "    except:\n",
    "        return False\n",
    "\n",
    "# Function to get molecular formula\n",
    "def get_molecular_formula(mol):\n",
    "    return Chem.rdMolDescriptors.CalcMolFormula(mol)\n",
    "\n",
    "# Function to process SMILES string\n",
    "def process_smiles(smiles, df_dataset):\n",
    "    mol = Chem.MolFromSmiles(smiles)\n",
    "\n",
    "    if mol is not None:\n",
    "        mol = Chem.AddHs(mol)\n",
    "        mw = Descriptors.MolWt(mol)\n",
    "        num_atoms = mol.GetNumAtoms()\n",
    "        num_bonds = mol.GetNumBonds()\n",
    "\n",
    "        AllChem.EmbedMolecule(mol)\n",
    "        mol_xyz = Chem.MolToXYZBlock(mol)\n",
    "        p = py3Dmol.view(width=400, height=400)\n",
    "        p.addModel(mol_xyz, 'xyz')\n",
    "        p.setStyle({'stick': {}})\n",
    "        p.setBackgroundColor('white')\n",
    "        p.zoomTo()\n",
    "        p.show()\n",
    "\n",
    "        mol_img = Draw.MolToImage(mol)\n",
    "        display(mol_img)\n",
    "\n",
    "        molecular_formula = get_molecular_formula(mol)\n",
    "\n",
    "        row = df_dataset.loc[df_dataset['canonicalsmiles'] == smiles].iloc[0]\n",
    "        iupac_name = row['iupacname']\n",
    "        exact_mass = row['exactmass']\n",
    "        monoisotopic_mass = row['monoisotopicmass']\n",
    "\n",
    "        data = {\n",
    "            'Property': ['Molecular Weight', 'Number of Atoms', 'Number of Bonds', 'Molecular Formula',\n",
    "                         'IUPAC Name', 'Exact Mass', 'Monoisotopic Mass'],\n",
    "            'Value': [mw, num_atoms, num_bonds, molecular_formula,\n",
    "                      iupac_name, exact_mass, monoisotopic_mass]\n",
    "        }\n",
    "\n",
    "        df = pd.DataFrame(data)\n",
    "        display(df)\n",
    "    else:\n",
    "        print(\"Invalid SMILES string\")\n",
    "\n",
    "def main():\n",
    "    smiles = input(\"Enter the SMILES string of the molecule: \")\n",
    "\n",
    "    if validate_smiles(smiles):\n",
    "        # Get the directory of the current script\n",
    "        current_dir = os.path.dirname(os.path.abspath(__file__))\n",
    "        \n",
    "        # Construct the dataset path\n",
    "        dataset_filename = 'PubChem_compound_list_hMMhFlIeN6IAjL-VPe32vf3MSqzNijeITa0sxFa8PsVWpQI.numbers'\n",
    "        dataset_path = os.path.join(current_dir, dataset_filename)\n",
    "\n",
    "        # Load the dataset\n",
    "        df_dataset = pd.read_csv(dataset_path)\n",
    "\n",
    "        # Process the SMILES string\n",
    "        process_smiles(smiles, df_dataset)\n",
    "    else:\n",
    "        print(\"Invalid SMILES string\")\n",
    "\n",
    "if __name__ == \"__main__\":\n",
    "    main()\n"
   ]
  },
  {
   "cell_type": "code",
   "execution_count": null,
   "id": "9cb7f6c7-29dc-47a3-bfc4-b01500f275a4",
   "metadata": {},
   "outputs": [],
   "source": []
  }
 ],
 "metadata": {
  "kernelspec": {
   "display_name": "Python 3 (ipykernel)",
   "language": "python",
   "name": "python3"
  },
  "language_info": {
   "codemirror_mode": {
    "name": "ipython",
    "version": 3
   },
   "file_extension": ".py",
   "mimetype": "text/x-python",
   "name": "python",
   "nbconvert_exporter": "python",
   "pygments_lexer": "ipython3",
   "version": "3.10.13"
  }
 },
 "nbformat": 4,
 "nbformat_minor": 5
}
