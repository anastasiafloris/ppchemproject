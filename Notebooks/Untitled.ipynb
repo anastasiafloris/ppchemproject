{
 "cells": [
  {
   "cell_type": "code",
   "execution_count": 4,
   "id": "8e68d801-1a13-4e9a-ad8c-0038fb3b4e3c",
   "metadata": {},
   "outputs": [],
   "source": [
    "from ppchemproject.module1 import validate_smiles2"
   ]
  },
  {
   "cell_type": "code",
   "execution_count": 5,
   "id": "71d49309-e8df-4f39-bd99-89d378d3f15f",
   "metadata": {},
   "outputs": [
    {
     "name": "stderr",
     "output_type": "stream",
     "text": [
      "[16:47:44] SMILES Parse Error: syntax error while parsing: hello\n",
      "[16:47:44] SMILES Parse Error: Failed parsing SMILES 'hello' for input: 'hello'\n"
     ]
    },
    {
     "data": {
      "text/plain": [
       "False"
      ]
     },
     "execution_count": 5,
     "metadata": {},
     "output_type": "execute_result"
    }
   ],
   "source": [
    "validate_smiles2(\"hello\")"
   ]
  },
  {
   "cell_type": "code",
   "execution_count": 5,
   "id": "538c282f-8395-4917-921f-3d626b674606",
   "metadata": {},
   "outputs": [],
   "source": [
    "from rdkit import Chem\n",
    "def validate_smiles(smiles):\n",
    "    # Check if the input is a valid SMILES string\n",
    "    mol = Chem.MolFromSmiles(smiles)\n",
    "    if mol==None:\n",
    "        return False \n",
    "    else: \n",
    "        return True"
   ]
  },
  {
   "cell_type": "code",
   "execution_count": 6,
   "id": "aa1ae28c-1df2-4dce-b68c-5fd1fe0365bb",
   "metadata": {},
   "outputs": [
    {
     "name": "stderr",
     "output_type": "stream",
     "text": [
      "[16:26:21] SMILES Parse Error: syntax error while parsing: hello\n",
      "[16:26:21] SMILES Parse Error: Failed parsing SMILES 'hello' for input: 'hello'\n"
     ]
    },
    {
     "data": {
      "text/plain": [
       "False"
      ]
     },
     "execution_count": 6,
     "metadata": {},
     "output_type": "execute_result"
    }
   ],
   "source": [
    "validate_smiles(\"hello\")"
   ]
  },
  {
   "cell_type": "code",
   "execution_count": null,
   "id": "f5854148-c209-4860-9b25-2bd9b1520312",
   "metadata": {},
   "outputs": [],
   "source": []
  }
 ],
 "metadata": {
  "kernelspec": {
   "display_name": "ppchem",
   "language": "python",
   "name": "ppchem"
  },
  "language_info": {
   "codemirror_mode": {
    "name": "ipython",
    "version": 3
   },
   "file_extension": ".py",
   "mimetype": "text/x-python",
   "name": "python",
   "nbconvert_exporter": "python",
   "pygments_lexer": "ipython3",
   "version": "3.10.13"
  }
 },
 "nbformat": 4,
 "nbformat_minor": 5
}
