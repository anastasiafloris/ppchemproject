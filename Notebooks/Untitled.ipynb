{
 "cells": [
  {
   "cell_type": "code",
   "execution_count": 1,
   "id": "8e68d801-1a13-4e9a-ad8c-0038fb3b4e3c",
   "metadata": {},
   "outputs": [],
   "source": [
    "from ppchemproject.module1 import validate_smiles\n",
    "from ppchemproject.module1 import other_function"
   ]
  },
  {
   "cell_type": "code",
   "execution_count": 3,
   "id": "71d49309-e8df-4f39-bd99-89d378d3f15f",
   "metadata": {},
   "outputs": [
    {
     "name": "stderr",
     "output_type": "stream",
     "text": [
      "[17:06:43] SMILES Parse Error: syntax error while parsing: Hi\n",
      "[17:06:43] SMILES Parse Error: Failed parsing SMILES 'Hi' for input: 'Hi'\n"
     ]
    },
    {
     "data": {
      "text/plain": [
       "True"
      ]
     },
     "execution_count": 3,
     "metadata": {},
     "output_type": "execute_result"
    }
   ],
   "source": []
  },
  {
   "cell_type": "code",
   "execution_count": null,
   "id": "538c282f-8395-4917-921f-3d626b674606",
   "metadata": {},
   "outputs": [],
   "source": []
  }
 ],
 "metadata": {
  "kernelspec": {
   "display_name": "ppchem",
   "language": "python",
   "name": "ppchem"
  },
  "language_info": {
   "codemirror_mode": {
    "name": "ipython",
    "version": 3
   },
   "file_extension": ".py",
   "mimetype": "text/x-python",
   "name": "python",
   "nbconvert_exporter": "python",
   "pygments_lexer": "ipython3",
   "version": "3.10.13"
  }
 },
 "nbformat": 4,
 "nbformat_minor": 5
}
