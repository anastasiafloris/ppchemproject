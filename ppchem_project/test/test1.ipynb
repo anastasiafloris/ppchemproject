{
 "cells": [
  {
   "cell_type": "code",
   "execution_count": 1,
   "id": "231e12bd-de3e-40b0-8e8d-1e98e82e2a73",
   "metadata": {},
   "outputs": [
    {
     "ename": "SyntaxError",
     "evalue": "incomplete input (4073916456.py, line 3)",
     "output_type": "error",
     "traceback": [
      "\u001b[0;36m  Cell \u001b[0;32mIn[1], line 3\u001b[0;36m\u001b[0m\n\u001b[0;31m    def test_smiles_depict_url():\u001b[0m\n\u001b[0m                                 ^\u001b[0m\n\u001b[0;31mSyntaxError\u001b[0m\u001b[0;31m:\u001b[0m incomplete input\n"
     ]
    }
   ],
   "source": [
    "import pytest\n",
    "from cdkpackage import smiles_depict_url\n",
    "def test_smiles_depict_url():"
   ]
  },
  {
   "cell_type": "code",
   "execution_count": null,
   "id": "6b8b7177-4768-4548-84df-104b40864eef",
   "metadata": {},
   "outputs": [],
   "source": []
  }
 ],
 "metadata": {
  "kernelspec": {
   "display_name": "Python 3 (ipykernel)",
   "language": "python",
   "name": "python3"
  },
  "language_info": {
   "codemirror_mode": {
    "name": "ipython",
    "version": 3
   },
   "file_extension": ".py",
   "mimetype": "text/x-python",
   "name": "python",
   "nbconvert_exporter": "python",
   "pygments_lexer": "ipython3",
   "version": "3.10.13"
  }
 },
 "nbformat": 4,
 "nbformat_minor": 5
}
